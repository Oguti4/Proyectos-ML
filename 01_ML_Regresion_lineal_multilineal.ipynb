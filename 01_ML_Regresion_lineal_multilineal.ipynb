{
 "cells": [
  {
   "cell_type": "code",
   "execution_count": 2,
   "metadata": {},
   "outputs": [],
   "source": [
    "import pandas as pd #lectura de datos\n",
    "import numpy as np # biblioteca con operaciones matemáticas y algebra lineal\n",
    "\n",
    "#viz y plots bonitos\n",
    "import matplotlib.pyplot as plt\n",
    "import seaborn as sb\n",
    "plt.style.use('ggplot')\n",
    "font = {'family' : 'sans',\n",
    "        'weight' : 'bold',\n",
    "        'size'   : 20}\n",
    "plt.rc('font', **font)\n",
    "plt.rcParams['xtick.labelsize'] = 16\n",
    "plt.rcParams['ytick.labelsize'] = 16\n",
    "plt.rcParams[u'figure.figsize'] = (16,12)\n",
    "params = {'legend.fontsize': 'x-large',\n",
    "         'axes.labelsize': 'x-large',\n",
    "         'axes.titlesize':'x-large'}\n",
    "plt.rcParams.update(params)\n",
    "\n",
    "# ML\n",
    "from sklearn import datasets\n",
    "from sklearn.linear_model import LinearRegression\n",
    "from sklearn.utils import check_random_state\n",
    "from sklearn.model_selection import train_test_split\n",
    "from sklearn.metrics import (mean_squared_error,mean_absolute_error,\n",
    "                             r2_score,explained_variance_score, accuracy_score)\n",
    "from sklearn import linear_model\n",
    "from sklearn import model_selection\n",
    "\n",
    "%matplotlib inline"
   ]
  },
  {
   "cell_type": "markdown",
   "metadata": {},
   "source": [
    "# Regresión Lineal\n",
    "\n",
    "Un modelo lineal genera predicciones por simple computo de la suma ponderada de términos de las variables de entrada, más el intercepto, más un término de error (*bias term*).\n",
    "\n",
    "$f(X) = \\beta_0 + \\sum X_j\\beta_j + \\epsilon$\n",
    "\n",
    "\n",
    "Una regresión estudia la relación entre variables. \n",
    "\n",
    "Ejemplos clásicos son:\n",
    "\n",
    "+ Física (2a Ley de Newton simplificada):\n",
    "\n",
    "    $ F = ma $\n",
    "\n",
    "+ Economía (función de oferta):\n",
    "\n",
    "    $P = 4c - 200$ \n",
    "      \n",
    "Donde P es el precio y c la cantidad de objetos que se venden.\n",
    "      \n",
    "+ Matematicas (ecuación de la recta):  \n",
    "\n",
    "    $f(x) = ax +b$"
   ]
  },
  {
   "cell_type": "markdown",
   "metadata": {},
   "source": [
    "La idea de la regresión es tener un conjunto de datos de entrada y explicar o describir los datos de salida como una combinación lineal de los datos de entrada.\n",
    "\n",
    "$X^T=(X_1,X_2,...,X_n)$\n",
    "\n",
    "Obteniendo que:\n",
    "\n",
    "$Y = X^T \\beta $\n",
    "\n",
    "El modelo que se busca describir es de la forma:\n",
    "\n",
    "$f(X) = \\beta_0 + \\sum X_j\\beta_j + \\epsilon$\n",
    "\n",
    "El metodo para estimar las $\\beta$'s más comun es el ajuste por mínimos cuadrados.\n",
    "\n",
    "Este método utiliza los residuos, donde los residuos se definen como: $e_i = y_i - \\hat{y_i}$, siendo una especie de distancia que indica que tan alejado o cercano estás del punto a estimar.\n",
    "\n",
    "En este caso se busca minimizar el error cuadrático o también conocido como la suma de los residuos:\n",
    "\n",
    "$ RSS(\\beta) = \\sum [y_i - f(x_i)]^2$                                        (1)\n",
    "\n",
    "Lo que se hace es sustituir la expresión que de $f(x)$ que depende de las $\\beta 's$ para minimizar la ecuación y tratar de encontrar las mejores $\\beta 's$ para describir Y.\n",
    "\n",
    "Si definimos la suma de los residuos cuadráticos obtendríamos (1) y minimizando esta ecuación y sustituyendo los coeficientes obtenemos:\n",
    " \n",
    " $\\hat{\\beta}_1 = \\frac{\\sum{(x_i-\\bar{x})(y_i-\\bar{y})}}{\\sum{(x_i-\\bar{x})^2}}$\n",
    " \n",
    " $\\hat{\\beta}_0 = \\bar{y} - \\hat{\\beta}_1\\bar{x}$\n",
    " \n",
    "Donde $\\bar{x}$ y $\\bar{y}$ son los valores promedios.\n",
    "\n",
    "<img src='Imagenes/rl_2.png'/>\n",
    "Como observamos los residuos sería las lineas grises entre cada punto y la linea de tendencia.\n",
    "\n",
    "<img src='Imagenes/rl.png'/>"
   ]
  },
  {
   "cell_type": "code",
   "execution_count": 3,
   "metadata": {},
   "outputs": [],
   "source": [
    "# Lectura de datos\n",
    "df = pd.read_csv('Datos/genero_altura_peso.csv')\n",
    "X = df.altura.values.reshape(-1, 1) # reshape para generar un vector\n",
    "y = df.peso.values"
   ]
  },
  {
   "cell_type": "code",
   "execution_count": 4,
   "metadata": {},
   "outputs": [
    {
     "name": "stdout",
     "output_type": "stream",
     "text": [
      "<class 'pandas.core.frame.DataFrame'>\n",
      "RangeIndex: 237 entries, 0 to 236\n",
      "Data columns (total 4 columns):\n",
      " #   Column  Non-Null Count  Dtype  \n",
      "---  ------  --------------  -----  \n",
      " 0   genero  237 non-null    object \n",
      " 1   edad    237 non-null    int64  \n",
      " 2   altura  237 non-null    float64\n",
      " 3   peso    237 non-null    float64\n",
      "dtypes: float64(2), int64(1), object(1)\n",
      "memory usage: 7.5+ KB\n"
     ]
    }
   ],
   "source": [
    "df.info()"
   ]
  },
  {
   "cell_type": "code",
   "execution_count": 5,
   "metadata": {},
   "outputs": [
    {
     "data": {
      "text/html": [
       "<div>\n",
       "<style scoped>\n",
       "    .dataframe tbody tr th:only-of-type {\n",
       "        vertical-align: middle;\n",
       "    }\n",
       "\n",
       "    .dataframe tbody tr th {\n",
       "        vertical-align: top;\n",
       "    }\n",
       "\n",
       "    .dataframe thead th {\n",
       "        text-align: right;\n",
       "    }\n",
       "</style>\n",
       "<table border=\"1\" class=\"dataframe\">\n",
       "  <thead>\n",
       "    <tr style=\"text-align: right;\">\n",
       "      <th></th>\n",
       "      <th>genero</th>\n",
       "      <th>edad</th>\n",
       "      <th>altura</th>\n",
       "      <th>peso</th>\n",
       "    </tr>\n",
       "  </thead>\n",
       "  <tbody>\n",
       "    <tr>\n",
       "      <th>0</th>\n",
       "      <td>f</td>\n",
       "      <td>143</td>\n",
       "      <td>56.3</td>\n",
       "      <td>85.0</td>\n",
       "    </tr>\n",
       "    <tr>\n",
       "      <th>1</th>\n",
       "      <td>f</td>\n",
       "      <td>191</td>\n",
       "      <td>62.5</td>\n",
       "      <td>112.5</td>\n",
       "    </tr>\n",
       "    <tr>\n",
       "      <th>2</th>\n",
       "      <td>f</td>\n",
       "      <td>160</td>\n",
       "      <td>62.0</td>\n",
       "      <td>94.5</td>\n",
       "    </tr>\n",
       "    <tr>\n",
       "      <th>3</th>\n",
       "      <td>f</td>\n",
       "      <td>157</td>\n",
       "      <td>64.5</td>\n",
       "      <td>123.5</td>\n",
       "    </tr>\n",
       "    <tr>\n",
       "      <th>4</th>\n",
       "      <td>f</td>\n",
       "      <td>191</td>\n",
       "      <td>65.3</td>\n",
       "      <td>107.0</td>\n",
       "    </tr>\n",
       "  </tbody>\n",
       "</table>\n",
       "</div>"
      ],
      "text/plain": [
       "  genero  edad  altura   peso\n",
       "0      f   143    56.3   85.0\n",
       "1      f   191    62.5  112.5\n",
       "2      f   160    62.0   94.5\n",
       "3      f   157    64.5  123.5\n",
       "4      f   191    65.3  107.0"
      ]
     },
     "execution_count": 5,
     "metadata": {},
     "output_type": "execute_result"
    }
   ],
   "source": [
    "df.head()"
   ]
  },
  {
   "cell_type": "code",
   "execution_count": 6,
   "metadata": {},
   "outputs": [],
   "source": [
    "df['edad_b'] = df.edad/12"
   ]
  },
  {
   "cell_type": "code",
   "execution_count": 7,
   "metadata": {},
   "outputs": [],
   "source": [
    "df = pd.get_dummies(df,\n",
    "               columns=['genero'],\n",
    "               drop_first=True)"
   ]
  },
  {
   "cell_type": "code",
   "execution_count": 8,
   "metadata": {},
   "outputs": [
    {
     "data": {
      "text/html": [
       "<div>\n",
       "<style scoped>\n",
       "    .dataframe tbody tr th:only-of-type {\n",
       "        vertical-align: middle;\n",
       "    }\n",
       "\n",
       "    .dataframe tbody tr th {\n",
       "        vertical-align: top;\n",
       "    }\n",
       "\n",
       "    .dataframe thead th {\n",
       "        text-align: right;\n",
       "    }\n",
       "</style>\n",
       "<table border=\"1\" class=\"dataframe\">\n",
       "  <thead>\n",
       "    <tr style=\"text-align: right;\">\n",
       "      <th></th>\n",
       "      <th>edad</th>\n",
       "      <th>altura</th>\n",
       "      <th>peso</th>\n",
       "      <th>edad_b</th>\n",
       "      <th>genero_m</th>\n",
       "    </tr>\n",
       "  </thead>\n",
       "  <tbody>\n",
       "    <tr>\n",
       "      <th>0</th>\n",
       "      <td>143</td>\n",
       "      <td>56.3</td>\n",
       "      <td>85.0</td>\n",
       "      <td>11.916667</td>\n",
       "      <td>0</td>\n",
       "    </tr>\n",
       "    <tr>\n",
       "      <th>1</th>\n",
       "      <td>191</td>\n",
       "      <td>62.5</td>\n",
       "      <td>112.5</td>\n",
       "      <td>15.916667</td>\n",
       "      <td>0</td>\n",
       "    </tr>\n",
       "    <tr>\n",
       "      <th>2</th>\n",
       "      <td>160</td>\n",
       "      <td>62.0</td>\n",
       "      <td>94.5</td>\n",
       "      <td>13.333333</td>\n",
       "      <td>0</td>\n",
       "    </tr>\n",
       "    <tr>\n",
       "      <th>3</th>\n",
       "      <td>157</td>\n",
       "      <td>64.5</td>\n",
       "      <td>123.5</td>\n",
       "      <td>13.083333</td>\n",
       "      <td>0</td>\n",
       "    </tr>\n",
       "    <tr>\n",
       "      <th>4</th>\n",
       "      <td>191</td>\n",
       "      <td>65.3</td>\n",
       "      <td>107.0</td>\n",
       "      <td>15.916667</td>\n",
       "      <td>0</td>\n",
       "    </tr>\n",
       "  </tbody>\n",
       "</table>\n",
       "</div>"
      ],
      "text/plain": [
       "   edad  altura   peso     edad_b  genero_m\n",
       "0   143    56.3   85.0  11.916667         0\n",
       "1   191    62.5  112.5  15.916667         0\n",
       "2   160    62.0   94.5  13.333333         0\n",
       "3   157    64.5  123.5  13.083333         0\n",
       "4   191    65.3  107.0  15.916667         0"
      ]
     },
     "execution_count": 8,
     "metadata": {},
     "output_type": "execute_result"
    }
   ],
   "source": [
    "df.head()"
   ]
  },
  {
   "cell_type": "markdown",
   "metadata": {},
   "source": [
    "# *Dataset* altura y peso"
   ]
  },
  {
   "cell_type": "code",
   "execution_count": 9,
   "metadata": {},
   "outputs": [
    {
     "data": {
      "image/png": "[encoded data removed]",
      "text/plain": [
       "<Figure size 432x432 with 1 Axes>"
      ]
     },
     "metadata": {
      "needs_background": "light"
     },
     "output_type": "display_data"
    }
   ],
   "source": [
    "# cómo se ven los datos.\n",
    "df[['altura','peso']].plot.scatter(x='altura',y='peso', \n",
    "                                   alpha=0.6, figsize=(6,6));"
   ]
  },
  {
   "cell_type": "code",
   "execution_count": 10,
   "metadata": {},
   "outputs": [
    {
     "data": {
      "text/html": [
       "<div>\n",
       "<style scoped>\n",
       "    .dataframe tbody tr th:only-of-type {\n",
       "        vertical-align: middle;\n",
       "    }\n",
       "\n",
       "    .dataframe tbody tr th {\n",
       "        vertical-align: top;\n",
       "    }\n",
       "\n",
       "    .dataframe thead th {\n",
       "        text-align: right;\n",
       "    }\n",
       "</style>\n",
       "<table border=\"1\" class=\"dataframe\">\n",
       "  <thead>\n",
       "    <tr style=\"text-align: right;\">\n",
       "      <th></th>\n",
       "      <th>altura</th>\n",
       "      <th>peso</th>\n",
       "    </tr>\n",
       "  </thead>\n",
       "  <tbody>\n",
       "    <tr>\n",
       "      <th>altura</th>\n",
       "      <td>1.000000</td>\n",
       "      <td>0.774876</td>\n",
       "    </tr>\n",
       "    <tr>\n",
       "      <th>peso</th>\n",
       "      <td>0.774876</td>\n",
       "      <td>1.000000</td>\n",
       "    </tr>\n",
       "  </tbody>\n",
       "</table>\n",
       "</div>"
      ],
      "text/plain": [
       "          altura      peso\n",
       "altura  1.000000  0.774876\n",
       "peso    0.774876  1.000000"
      ]
     },
     "execution_count": 10,
     "metadata": {},
     "output_type": "execute_result"
    }
   ],
   "source": [
    "df[['altura','peso']].corr()"
   ]
  },
  {
   "cell_type": "code",
   "execution_count": 11,
   "metadata": {},
   "outputs": [
    {
     "data": {
      "text/html": [
       "<div>\n",
       "<style scoped>\n",
       "    .dataframe tbody tr th:only-of-type {\n",
       "        vertical-align: middle;\n",
       "    }\n",
       "\n",
       "    .dataframe tbody tr th {\n",
       "        vertical-align: top;\n",
       "    }\n",
       "\n",
       "    .dataframe thead th {\n",
       "        text-align: right;\n",
       "    }\n",
       "</style>\n",
       "<table border=\"1\" class=\"dataframe\">\n",
       "  <thead>\n",
       "    <tr style=\"text-align: right;\">\n",
       "      <th></th>\n",
       "      <th>altura</th>\n",
       "      <th>peso</th>\n",
       "    </tr>\n",
       "  </thead>\n",
       "  <tbody>\n",
       "    <tr>\n",
       "      <th>count</th>\n",
       "      <td>237.000000</td>\n",
       "      <td>237.000000</td>\n",
       "    </tr>\n",
       "    <tr>\n",
       "      <th>mean</th>\n",
       "      <td>61.364557</td>\n",
       "      <td>101.308017</td>\n",
       "    </tr>\n",
       "    <tr>\n",
       "      <th>std</th>\n",
       "      <td>3.945402</td>\n",
       "      <td>19.440698</td>\n",
       "    </tr>\n",
       "    <tr>\n",
       "      <th>min</th>\n",
       "      <td>50.500000</td>\n",
       "      <td>50.500000</td>\n",
       "    </tr>\n",
       "    <tr>\n",
       "      <th>25%</th>\n",
       "      <td>58.800000</td>\n",
       "      <td>85.000000</td>\n",
       "    </tr>\n",
       "    <tr>\n",
       "      <th>50%</th>\n",
       "      <td>61.500000</td>\n",
       "      <td>101.000000</td>\n",
       "    </tr>\n",
       "    <tr>\n",
       "      <th>75%</th>\n",
       "      <td>64.300000</td>\n",
       "      <td>112.000000</td>\n",
       "    </tr>\n",
       "    <tr>\n",
       "      <th>max</th>\n",
       "      <td>72.000000</td>\n",
       "      <td>171.500000</td>\n",
       "    </tr>\n",
       "  </tbody>\n",
       "</table>\n",
       "</div>"
      ],
      "text/plain": [
       "           altura        peso\n",
       "count  237.000000  237.000000\n",
       "mean    61.364557  101.308017\n",
       "std      3.945402   19.440698\n",
       "min     50.500000   50.500000\n",
       "25%     58.800000   85.000000\n",
       "50%     61.500000  101.000000\n",
       "75%     64.300000  112.000000\n",
       "max     72.000000  171.500000"
      ]
     },
     "execution_count": 11,
     "metadata": {},
     "output_type": "execute_result"
    }
   ],
   "source": [
    "df[['altura','peso']].describe()"
   ]
  },
  {
   "cell_type": "markdown",
   "metadata": {},
   "source": [
    "### Machine Learning"
   ]
  },
  {
   "cell_type": "code",
   "execution_count": 12,
   "metadata": {},
   "outputs": [
    {
     "data": {
      "text/plain": [
       "Index(['edad', 'altura', 'peso', 'edad_b', 'genero_m'], dtype='object')"
      ]
     },
     "execution_count": 12,
     "metadata": {},
     "output_type": "execute_result"
    }
   ],
   "source": [
    "df.columns"
   ]
  },
  {
   "cell_type": "code",
   "execution_count": 13,
   "metadata": {},
   "outputs": [],
   "source": [
    "X = df[['altura', 'edad_b', 'genero_m']]\n",
    "y = df['peso']"
   ]
  },
  {
   "cell_type": "code",
   "execution_count": 14,
   "metadata": {},
   "outputs": [],
   "source": [
    "ls = LinearRegression()\n",
    "\n",
    "ls.fit(X, y)\n",
    "\n",
    "y_hat = ls.predict(X)"
   ]
  },
  {
   "cell_type": "code",
   "execution_count": 15,
   "metadata": {},
   "outputs": [
    {
     "data": {
      "text/html": [
       "<div>\n",
       "<style scoped>\n",
       "    .dataframe tbody tr th:only-of-type {\n",
       "        vertical-align: middle;\n",
       "    }\n",
       "\n",
       "    .dataframe tbody tr th {\n",
       "        vertical-align: top;\n",
       "    }\n",
       "\n",
       "    .dataframe thead th {\n",
       "        text-align: right;\n",
       "    }\n",
       "</style>\n",
       "<table border=\"1\" class=\"dataframe\">\n",
       "  <thead>\n",
       "    <tr style=\"text-align: right;\">\n",
       "      <th></th>\n",
       "      <th>altura</th>\n",
       "      <th>edad_b</th>\n",
       "      <th>genero_m</th>\n",
       "    </tr>\n",
       "  </thead>\n",
       "  <tbody>\n",
       "    <tr>\n",
       "      <th>0</th>\n",
       "      <td>56.3</td>\n",
       "      <td>11.916667</td>\n",
       "      <td>0</td>\n",
       "    </tr>\n",
       "    <tr>\n",
       "      <th>1</th>\n",
       "      <td>62.5</td>\n",
       "      <td>15.916667</td>\n",
       "      <td>0</td>\n",
       "    </tr>\n",
       "    <tr>\n",
       "      <th>2</th>\n",
       "      <td>62.0</td>\n",
       "      <td>13.333333</td>\n",
       "      <td>0</td>\n",
       "    </tr>\n",
       "    <tr>\n",
       "      <th>3</th>\n",
       "      <td>64.5</td>\n",
       "      <td>13.083333</td>\n",
       "      <td>0</td>\n",
       "    </tr>\n",
       "    <tr>\n",
       "      <th>4</th>\n",
       "      <td>65.3</td>\n",
       "      <td>15.916667</td>\n",
       "      <td>0</td>\n",
       "    </tr>\n",
       "    <tr>\n",
       "      <th>...</th>\n",
       "      <td>...</td>\n",
       "      <td>...</td>\n",
       "      <td>...</td>\n",
       "    </tr>\n",
       "    <tr>\n",
       "      <th>232</th>\n",
       "      <td>55.0</td>\n",
       "      <td>12.166667</td>\n",
       "      <td>1</td>\n",
       "    </tr>\n",
       "    <tr>\n",
       "      <th>233</th>\n",
       "      <td>64.8</td>\n",
       "      <td>12.750000</td>\n",
       "      <td>1</td>\n",
       "    </tr>\n",
       "    <tr>\n",
       "      <th>234</th>\n",
       "      <td>63.8</td>\n",
       "      <td>14.833333</td>\n",
       "      <td>1</td>\n",
       "    </tr>\n",
       "    <tr>\n",
       "      <th>235</th>\n",
       "      <td>55.0</td>\n",
       "      <td>11.833333</td>\n",
       "      <td>1</td>\n",
       "    </tr>\n",
       "    <tr>\n",
       "      <th>236</th>\n",
       "      <td>62.0</td>\n",
       "      <td>13.916667</td>\n",
       "      <td>1</td>\n",
       "    </tr>\n",
       "  </tbody>\n",
       "</table>\n",
       "<p>237 rows × 3 columns</p>\n",
       "</div>"
      ],
      "text/plain": [
       "     altura     edad_b  genero_m\n",
       "0      56.3  11.916667         0\n",
       "1      62.5  15.916667         0\n",
       "2      62.0  13.333333         0\n",
       "3      64.5  13.083333         0\n",
       "4      65.3  15.916667         0\n",
       "..      ...        ...       ...\n",
       "232    55.0  12.166667         1\n",
       "233    64.8  12.750000         1\n",
       "234    63.8  14.833333         1\n",
       "235    55.0  11.833333         1\n",
       "236    62.0  13.916667         1\n",
       "\n",
       "[237 rows x 3 columns]"
      ]
     },
     "execution_count": 15,
     "metadata": {},
     "output_type": "execute_result"
    }
   ],
   "source": [
    "X"
   ]
  },
  {
   "cell_type": "code",
   "execution_count": 19,
   "metadata": {},
   "outputs": [
    {
     "name": "stderr",
     "output_type": "stream",
     "text": [
      "C:\\ProgramData\\Anaconda3\\lib\\site-packages\\sklearn\\utils\\validation.py:72: FutureWarning: Beginning in version 0.22, arrays of bytes/strings will be converted to decimal numbers if dtype='numeric'. It is recommended that you convert the array to a float dtype before using it in scikit-learn, for example by using your_array = your_array.astype(np.float64).\n",
      "  return f(**kwargs)\n"
     ]
    },
    {
     "ename": "UFuncTypeError",
     "evalue": "ufunc 'matmul' did not contain a loop with signature matching types (dtype('<U32'), dtype('<U32')) -> dtype('<U32')",
     "output_type": "error",
     "traceback": [
      "\u001b[1;31m---------------------------------------------------------------------------\u001b[0m",
      "\u001b[1;31mUFuncTypeError\u001b[0m                            Traceback (most recent call last)",
      "\u001b[1;32m<ipython-input-19-660d5c017d71>\u001b[0m in \u001b[0;36m<module>\u001b[1;34m\u001b[0m\n\u001b[1;32m----> 1\u001b[1;33m \u001b[0mls\u001b[0m\u001b[1;33m.\u001b[0m\u001b[0mpredict\u001b[0m\u001b[1;33m(\u001b[0m\u001b[1;33m[\u001b[0m\u001b[1;33m[\u001b[0m\u001b[1;34m'55'\u001b[0m\u001b[1;33m,\u001b[0m \u001b[1;34m'12.8'\u001b[0m\u001b[1;33m,\u001b[0m \u001b[1;34m'1'\u001b[0m\u001b[1;33m]\u001b[0m\u001b[1;33m]\u001b[0m\u001b[1;33m)\u001b[0m\u001b[1;33m\u001b[0m\u001b[1;33m\u001b[0m\u001b[0m\n\u001b[0m",
      "\u001b[1;32mC:\\ProgramData\\Anaconda3\\lib\\site-packages\\sklearn\\linear_model\\_base.py\u001b[0m in \u001b[0;36mpredict\u001b[1;34m(self, X)\u001b[0m\n\u001b[0;32m    234\u001b[0m             \u001b[0mReturns\u001b[0m \u001b[0mpredicted\u001b[0m \u001b[0mvalues\u001b[0m\u001b[1;33m.\u001b[0m\u001b[1;33m\u001b[0m\u001b[1;33m\u001b[0m\u001b[0m\n\u001b[0;32m    235\u001b[0m         \"\"\"\n\u001b[1;32m--> 236\u001b[1;33m         \u001b[1;32mreturn\u001b[0m \u001b[0mself\u001b[0m\u001b[1;33m.\u001b[0m\u001b[0m_decision_function\u001b[0m\u001b[1;33m(\u001b[0m\u001b[0mX\u001b[0m\u001b[1;33m)\u001b[0m\u001b[1;33m\u001b[0m\u001b[1;33m\u001b[0m\u001b[0m\n\u001b[0m\u001b[0;32m    237\u001b[0m \u001b[1;33m\u001b[0m\u001b[0m\n\u001b[0;32m    238\u001b[0m     \u001b[0m_preprocess_data\u001b[0m \u001b[1;33m=\u001b[0m \u001b[0mstaticmethod\u001b[0m\u001b[1;33m(\u001b[0m\u001b[0m_preprocess_data\u001b[0m\u001b[1;33m)\u001b[0m\u001b[1;33m\u001b[0m\u001b[1;33m\u001b[0m\u001b[0m\n",
      "\u001b[1;32mC:\\ProgramData\\Anaconda3\\lib\\site-packages\\sklearn\\linear_model\\_base.py\u001b[0m in \u001b[0;36m_decision_function\u001b[1;34m(self, X)\u001b[0m\n\u001b[0;32m    217\u001b[0m \u001b[1;33m\u001b[0m\u001b[0m\n\u001b[0;32m    218\u001b[0m         \u001b[0mX\u001b[0m \u001b[1;33m=\u001b[0m \u001b[0mcheck_array\u001b[0m\u001b[1;33m(\u001b[0m\u001b[0mX\u001b[0m\u001b[1;33m,\u001b[0m \u001b[0maccept_sparse\u001b[0m\u001b[1;33m=\u001b[0m\u001b[1;33m[\u001b[0m\u001b[1;34m'csr'\u001b[0m\u001b[1;33m,\u001b[0m \u001b[1;34m'csc'\u001b[0m\u001b[1;33m,\u001b[0m \u001b[1;34m'coo'\u001b[0m\u001b[1;33m]\u001b[0m\u001b[1;33m)\u001b[0m\u001b[1;33m\u001b[0m\u001b[1;33m\u001b[0m\u001b[0m\n\u001b[1;32m--> 219\u001b[1;33m         return safe_sparse_dot(X, self.coef_.T,\n\u001b[0m\u001b[0;32m    220\u001b[0m                                dense_output=True) + self.intercept_\n\u001b[0;32m    221\u001b[0m \u001b[1;33m\u001b[0m\u001b[0m\n",
      "\u001b[1;32mC:\\ProgramData\\Anaconda3\\lib\\site-packages\\sklearn\\utils\\validation.py\u001b[0m in \u001b[0;36minner_f\u001b[1;34m(*args, **kwargs)\u001b[0m\n\u001b[0;32m     70\u001b[0m                           FutureWarning)\n\u001b[0;32m     71\u001b[0m         \u001b[0mkwargs\u001b[0m\u001b[1;33m.\u001b[0m\u001b[0mupdate\u001b[0m\u001b[1;33m(\u001b[0m\u001b[1;33m{\u001b[0m\u001b[0mk\u001b[0m\u001b[1;33m:\u001b[0m \u001b[0marg\u001b[0m \u001b[1;32mfor\u001b[0m \u001b[0mk\u001b[0m\u001b[1;33m,\u001b[0m \u001b[0marg\u001b[0m \u001b[1;32min\u001b[0m \u001b[0mzip\u001b[0m\u001b[1;33m(\u001b[0m\u001b[0msig\u001b[0m\u001b[1;33m.\u001b[0m\u001b[0mparameters\u001b[0m\u001b[1;33m,\u001b[0m \u001b[0margs\u001b[0m\u001b[1;33m)\u001b[0m\u001b[1;33m}\u001b[0m\u001b[1;33m)\u001b[0m\u001b[1;33m\u001b[0m\u001b[1;33m\u001b[0m\u001b[0m\n\u001b[1;32m---> 72\u001b[1;33m         \u001b[1;32mreturn\u001b[0m \u001b[0mf\u001b[0m\u001b[1;33m(\u001b[0m\u001b[1;33m**\u001b[0m\u001b[0mkwargs\u001b[0m\u001b[1;33m)\u001b[0m\u001b[1;33m\u001b[0m\u001b[1;33m\u001b[0m\u001b[0m\n\u001b[0m\u001b[0;32m     73\u001b[0m     \u001b[1;32mreturn\u001b[0m \u001b[0minner_f\u001b[0m\u001b[1;33m\u001b[0m\u001b[1;33m\u001b[0m\u001b[0m\n\u001b[0;32m     74\u001b[0m \u001b[1;33m\u001b[0m\u001b[0m\n",
      "\u001b[1;32mC:\\ProgramData\\Anaconda3\\lib\\site-packages\\sklearn\\utils\\extmath.py\u001b[0m in \u001b[0;36msafe_sparse_dot\u001b[1;34m(a, b, dense_output)\u001b[0m\n\u001b[0;32m    151\u001b[0m             \u001b[0mret\u001b[0m \u001b[1;33m=\u001b[0m \u001b[0mnp\u001b[0m\u001b[1;33m.\u001b[0m\u001b[0mdot\u001b[0m\u001b[1;33m(\u001b[0m\u001b[0ma\u001b[0m\u001b[1;33m,\u001b[0m \u001b[0mb\u001b[0m\u001b[1;33m)\u001b[0m\u001b[1;33m\u001b[0m\u001b[1;33m\u001b[0m\u001b[0m\n\u001b[0;32m    152\u001b[0m     \u001b[1;32melse\u001b[0m\u001b[1;33m:\u001b[0m\u001b[1;33m\u001b[0m\u001b[1;33m\u001b[0m\u001b[0m\n\u001b[1;32m--> 153\u001b[1;33m         \u001b[0mret\u001b[0m \u001b[1;33m=\u001b[0m \u001b[0ma\u001b[0m \u001b[1;33m@\u001b[0m \u001b[0mb\u001b[0m\u001b[1;33m\u001b[0m\u001b[1;33m\u001b[0m\u001b[0m\n\u001b[0m\u001b[0;32m    154\u001b[0m \u001b[1;33m\u001b[0m\u001b[0m\n\u001b[0;32m    155\u001b[0m     if (sparse.issparse(a) and sparse.issparse(b)\n",
      "\u001b[1;31mUFuncTypeError\u001b[0m: ufunc 'matmul' did not contain a loop with signature matching types (dtype('<U32'), dtype('<U32')) -> dtype('<U32')"
     ]
    }
   ],
   "source": [
    "ls.predict([['55', '12.8', '1']])"
   ]
  },
  {
   "cell_type": "markdown",
   "metadata": {},
   "source": [
    "### Listo ya acabaste :v"
   ]
  },
  {
   "cell_type": "code",
   "execution_count": 20,
   "metadata": {},
   "outputs": [
    {
     "data": {
      "text/plain": [
       "<AxesSubplot:xlabel='altura', ylabel='peso'>"
      ]
     },
     "execution_count": 20,
     "metadata": {},
     "output_type": "execute_result"
    },
    {
     "data": {
      "image/png": "[encoded data removed]",
      "text/plain": [
       "<Figure size 432x432 with 1 Axes>"
      ]
     },
     "metadata": {
      "needs_background": "light"
     },
     "output_type": "display_data"
    }
   ],
   "source": [
    "df[['altura','peso']].plot.scatter(x='altura',y='peso', \n",
    "                                   alpha=0.6, figsize=(6,6))\n",
    "# plt.plot(X['altura'],sorted(y_hat))"
   ]
  },
  {
   "cell_type": "markdown",
   "metadata": {},
   "source": [
    "1. Se evalua tu modelo"
   ]
  },
  {
   "cell_type": "code",
   "execution_count": 21,
   "metadata": {},
   "outputs": [
    {
     "name": "stdout",
     "output_type": "stream",
     "text": [
      "r\"2  0.631\n"
     ]
    }
   ],
   "source": [
    "print('r\"2 % 1.3f' % r2_score(y,y_hat))"
   ]
  },
  {
   "cell_type": "code",
   "execution_count": 22,
   "metadata": {},
   "outputs": [
    {
     "name": "stdout",
     "output_type": "stream",
     "text": [
      "RMSE  11.792\n"
     ]
    }
   ],
   "source": [
    "# En promedio me equivoco más o menos\n",
    "print('RMSE % 1.3f' %np.sqrt(mean_squared_error(y,y_hat)))"
   ]
  },
  {
   "cell_type": "markdown",
   "metadata": {},
   "source": [
    "2. Se interpreta tu modelo"
   ]
  },
  {
   "cell_type": "code",
   "execution_count": 23,
   "metadata": {},
   "outputs": [
    {
     "name": "stdout",
     "output_type": "stream",
     "text": [
      "Intercepto -128.21\n"
     ]
    }
   ],
   "source": [
    "print('Intercepto % 1.2f' % ls.intercept_)"
   ]
  },
  {
   "cell_type": "code",
   "execution_count": 24,
   "metadata": {},
   "outputs": [
    {
     "data": {
      "text/html": [
       "<div>\n",
       "<style scoped>\n",
       "    .dataframe tbody tr th:only-of-type {\n",
       "        vertical-align: middle;\n",
       "    }\n",
       "\n",
       "    .dataframe tbody tr th {\n",
       "        vertical-align: top;\n",
       "    }\n",
       "\n",
       "    .dataframe thead th {\n",
       "        text-align: right;\n",
       "    }\n",
       "</style>\n",
       "<table border=\"1\" class=\"dataframe\">\n",
       "  <thead>\n",
       "    <tr style=\"text-align: right;\">\n",
       "      <th></th>\n",
       "      <th>0</th>\n",
       "    </tr>\n",
       "  </thead>\n",
       "  <tbody>\n",
       "    <tr>\n",
       "      <th>altura</th>\n",
       "      <td>3.104755</td>\n",
       "    </tr>\n",
       "    <tr>\n",
       "      <th>edad_b</th>\n",
       "      <td>2.858920</td>\n",
       "    </tr>\n",
       "    <tr>\n",
       "      <th>genero_m</th>\n",
       "      <td>-0.337506</td>\n",
       "    </tr>\n",
       "  </tbody>\n",
       "</table>\n",
       "</div>"
      ],
      "text/plain": [
       "                 0\n",
       "altura    3.104755\n",
       "edad_b    2.858920\n",
       "genero_m -0.337506"
      ]
     },
     "execution_count": 24,
     "metadata": {},
     "output_type": "execute_result"
    }
   ],
   "source": [
    "pd.DataFrame(ls.coef_,X.columns)"
   ]
  },
  {
   "cell_type": "markdown",
   "metadata": {},
   "source": [
    "# Regresion multilineal\n",
    "\n",
    "*Dataset melbourne-housing-market:*"
   ]
  },
  {
   "cell_type": "markdown",
   "metadata": {},
   "source": [
    "* Suburb: Suburb\n",
    "\n",
    "* Address: Address\n",
    "\n",
    "* Rooms: Number of rooms\n",
    "\n",
    "* Price: Price in Australian dollars\n",
    "\n",
    "* Method: S - property sold; SP - property sold prior; PI - property passed in; PN - sold prior not disclosed; SN - sold not disclosed; NB - no bid; VB - vendor bid; W - withdrawn prior to auction; SA - sold after auction; SS - sold after auction price not disclosed. N/A - price or highest bid not available.\n",
    "\n",
    "* Type: br - bedroom(s); h - house,cottage,villa, semi,terrace; u - unit, duplex; t - townhouse; dev site - development site; o res - other residential.\n",
    "\n",
    "* SellerG: Real Estate Agent\n",
    "\n",
    "* Date: Date sold\n",
    "\n",
    "* Distance: Distance from CBD in Kilometres\n",
    "\n",
    "* Regionname: General Region (West, North West, North, North east ...etc)\n",
    "\n",
    "* Propertycount: Number of properties that exist in the suburb.\n",
    "\n",
    "* Bedroom2 : Scraped # of Bedrooms (from different source)\n",
    "\n",
    "* Bathroom: Number of Bathrooms\n",
    "\n",
    "* Car: Number of carspots\n",
    "\n",
    "* Landsize: Land Size in Metres\n",
    "\n",
    "* BuildingArea: Building Size in Metres\n",
    "\n",
    "* YearBuilt: Year the house was built\n",
    "\n",
    "* CouncilArea: Governing council for the area\n",
    "\n",
    "* Lattitude: Self explanitory\n",
    "\n",
    "* Longtitude: Self explanitory"
   ]
  },
  {
   "cell_type": "markdown",
   "metadata": {},
   "source": [
    "El objetico es estimar el precio de una casa."
   ]
  },
  {
   "cell_type": "code",
   "execution_count": 25,
   "metadata": {},
   "outputs": [],
   "source": [
    "df = pd.read_csv('Datos/Melbourne_housing_FULL.csv')\n",
    "df.columns = df.columns.str.lower()\n",
    "df.dropna(inplace = True)"
   ]
  },
  {
   "cell_type": "code",
   "execution_count": 26,
   "metadata": {},
   "outputs": [],
   "source": [
    "y = df.price"
   ]
  },
  {
   "cell_type": "code",
   "execution_count": 27,
   "metadata": {},
   "outputs": [
    {
     "name": "stdout",
     "output_type": "stream",
     "text": [
      "<class 'pandas.core.frame.DataFrame'>\n",
      "Int64Index: 8887 entries, 2 to 34856\n",
      "Data columns (total 21 columns):\n",
      " #   Column         Non-Null Count  Dtype  \n",
      "---  ------         --------------  -----  \n",
      " 0   suburb         8887 non-null   object \n",
      " 1   address        8887 non-null   object \n",
      " 2   rooms          8887 non-null   int64  \n",
      " 3   type           8887 non-null   object \n",
      " 4   price          8887 non-null   float64\n",
      " 5   method         8887 non-null   object \n",
      " 6   sellerg        8887 non-null   object \n",
      " 7   date           8887 non-null   object \n",
      " 8   distance       8887 non-null   float64\n",
      " 9   postcode       8887 non-null   float64\n",
      " 10  bedroom2       8887 non-null   float64\n",
      " 11  bathroom       8887 non-null   float64\n",
      " 12  car            8887 non-null   float64\n",
      " 13  landsize       8887 non-null   float64\n",
      " 14  buildingarea   8887 non-null   float64\n",
      " 15  yearbuilt      8887 non-null   float64\n",
      " 16  councilarea    8887 non-null   object \n",
      " 17  lattitude      8887 non-null   float64\n",
      " 18  longtitude     8887 non-null   float64\n",
      " 19  regionname     8887 non-null   object \n",
      " 20  propertycount  8887 non-null   float64\n",
      "dtypes: float64(12), int64(1), object(8)\n",
      "memory usage: 1.5+ MB\n"
     ]
    }
   ],
   "source": [
    "df.info()"
   ]
  },
  {
   "cell_type": "markdown",
   "metadata": {},
   "source": [
    "* Suburb: Suburb\n",
    "* Address: Address\n",
    "* Rooms: Number of rooms\n",
    "* Price: Price in Australian dollars\n",
    "* Method: S - property sold; SP - property sold prior; PI - property passed in; PN - sold prior not disclosed; SN - sold not disclosed; NB - no bid; VB - vendor bid; W - withdrawn prior to auction; SA - sold after auction; SS - sold after auction price not disclosed. N/A - price or highest bid not available.\n",
    "* Type: br - bedroom(s); h - house,cottage,villa, semi,terrace; u - unit, duplex; t - townhouse; dev site - development site; o res - other residential.\n",
    "* SellerG: Real Estate Agent\n",
    "* Date: Date sold\n",
    "* Distance: Distance from CBD in Kilometres\n",
    "* Regionname: General Region (West, North West, North, North east ...etc)\n",
    "* Propertycount: Number of properties that exist in the suburb.\n",
    "* Bedroom2 : Scraped # of Bedrooms (from different source)\n",
    "* Bathroom: Number of Bathrooms\n",
    "* Car: Number of carspots\n",
    "* Landsize: Land Size in Metres\n",
    "* BuildingArea: Building Size in Metres\n",
    "* YearBuilt: Year the house was built\n",
    "* CouncilArea: Governing council for the area\n",
    "* Lattitude: Self explanitory\n",
    "* Longtitude: Self explanitory"
   ]
  },
  {
   "cell_type": "code",
   "execution_count": 28,
   "metadata": {},
   "outputs": [],
   "source": [
    "X = df[['distance', 'car', 'rooms',\n",
    "       'landsize', 'buildingarea', 'yearbuilt',\n",
    "       'propertycount']]"
   ]
  },
  {
   "cell_type": "code",
   "execution_count": 29,
   "metadata": {},
   "outputs": [
    {
     "data": {
      "text/plain": [
       "distance           11.199887\n",
       "car                 1.692247\n",
       "rooms               3.098909\n",
       "landsize          523.480365\n",
       "buildingarea      149.309477\n",
       "yearbuilt        1965.753348\n",
       "propertycount    7475.940137\n",
       "dtype: float64"
      ]
     },
     "execution_count": 29,
     "metadata": {},
     "output_type": "execute_result"
    }
   ],
   "source": [
    "X.mean()"
   ]
  },
  {
   "cell_type": "code",
   "execution_count": 30,
   "metadata": {},
   "outputs": [
    {
     "data": {
      "text/plain": [
       "distance            6.813402\n",
       "car                 0.975464\n",
       "rooms               0.963786\n",
       "landsize         1061.324228\n",
       "buildingarea       87.925580\n",
       "yearbuilt          37.040876\n",
       "propertycount    4375.024364\n",
       "dtype: float64"
      ]
     },
     "execution_count": 30,
     "metadata": {},
     "output_type": "execute_result"
    }
   ],
   "source": [
    "X.std()"
   ]
  },
  {
   "cell_type": "markdown",
   "metadata": {},
   "source": [
    "Estandarizando variables:"
   ]
  },
  {
   "cell_type": "code",
   "execution_count": 31,
   "metadata": {},
   "outputs": [],
   "source": [
    "X_std = (X - X.mean())/X.std()"
   ]
  },
  {
   "cell_type": "markdown",
   "metadata": {},
   "source": [
    "# Machine Learining"
   ]
  },
  {
   "cell_type": "code",
   "execution_count": 32,
   "metadata": {},
   "outputs": [
    {
     "data": {
      "text/plain": [
       "LinearRegression()"
      ]
     },
     "execution_count": 32,
     "metadata": {},
     "output_type": "execute_result"
    }
   ],
   "source": [
    "ls_std = linear_model.LinearRegression()\n",
    "ls_std.fit(X_std,y)"
   ]
  },
  {
   "cell_type": "markdown",
   "metadata": {},
   "source": [
    "### Listo"
   ]
  },
  {
   "cell_type": "code",
   "execution_count": 33,
   "metadata": {},
   "outputs": [
    {
     "data": {
      "text/plain": [
       "array([-213551.50663731,   57550.35635983,  216109.47810834,\n",
       "         27286.12851797,  231889.74202213, -170545.74448859,\n",
       "         -4059.94102794])"
      ]
     },
     "execution_count": 33,
     "metadata": {},
     "output_type": "execute_result"
    }
   ],
   "source": [
    "ls_std.coef_"
   ]
  },
  {
   "cell_type": "code",
   "execution_count": 34,
   "metadata": {},
   "outputs": [
    {
     "name": "stdout",
     "output_type": "stream",
     "text": [
      "Intercepto  1092901.63\n"
     ]
    },
    {
     "data": {
      "text/html": [
       "<div>\n",
       "<style scoped>\n",
       "    .dataframe tbody tr th:only-of-type {\n",
       "        vertical-align: middle;\n",
       "    }\n",
       "\n",
       "    .dataframe tbody tr th {\n",
       "        vertical-align: top;\n",
       "    }\n",
       "\n",
       "    .dataframe thead th {\n",
       "        text-align: right;\n",
       "    }\n",
       "</style>\n",
       "<table border=\"1\" class=\"dataframe\">\n",
       "  <thead>\n",
       "    <tr style=\"text-align: right;\">\n",
       "      <th></th>\n",
       "      <th>coeficientes</th>\n",
       "    </tr>\n",
       "  </thead>\n",
       "  <tbody>\n",
       "    <tr>\n",
       "      <th>distance</th>\n",
       "      <td>-213551.506637</td>\n",
       "    </tr>\n",
       "    <tr>\n",
       "      <th>car</th>\n",
       "      <td>57550.356360</td>\n",
       "    </tr>\n",
       "    <tr>\n",
       "      <th>rooms</th>\n",
       "      <td>216109.478108</td>\n",
       "    </tr>\n",
       "    <tr>\n",
       "      <th>landsize</th>\n",
       "      <td>27286.128518</td>\n",
       "    </tr>\n",
       "    <tr>\n",
       "      <th>buildingarea</th>\n",
       "      <td>231889.742022</td>\n",
       "    </tr>\n",
       "    <tr>\n",
       "      <th>yearbuilt</th>\n",
       "      <td>-170545.744489</td>\n",
       "    </tr>\n",
       "    <tr>\n",
       "      <th>propertycount</th>\n",
       "      <td>-4059.941028</td>\n",
       "    </tr>\n",
       "  </tbody>\n",
       "</table>\n",
       "</div>"
      ],
      "text/plain": [
       "                coeficientes\n",
       "distance      -213551.506637\n",
       "car             57550.356360\n",
       "rooms          216109.478108\n",
       "landsize        27286.128518\n",
       "buildingarea   231889.742022\n",
       "yearbuilt     -170545.744489\n",
       "propertycount   -4059.941028"
      ]
     },
     "execution_count": 34,
     "metadata": {},
     "output_type": "execute_result"
    }
   ],
   "source": [
    "print('Intercepto % 1.2f' % ls_std.intercept_)\n",
    "coefs = pd.DataFrame(index = X.columns, data = ls_std.coef_,columns=['coeficientes'])\n",
    "coefs"
   ]
  },
  {
   "cell_type": "code",
   "execution_count": 35,
   "metadata": {},
   "outputs": [],
   "source": [
    "y_hat = ls_std.predict(X_std)"
   ]
  },
  {
   "cell_type": "code",
   "execution_count": 36,
   "metadata": {},
   "outputs": [
    {
     "data": {
      "text/plain": [
       "1092901.6288961405"
      ]
     },
     "execution_count": 36,
     "metadata": {},
     "output_type": "execute_result"
    }
   ],
   "source": [
    "y.mean()"
   ]
  },
  {
   "cell_type": "code",
   "execution_count": 37,
   "metadata": {},
   "outputs": [
    {
     "name": "stdout",
     "output_type": "stream",
     "text": [
      "RMSE:  482224\n",
      "r\"2:  0.496\n"
     ]
    }
   ],
   "source": [
    "print('RMSE: % 1.f' %np.sqrt(mean_squared_error(y,y_hat)))\n",
    "print('r\"2: % 1.3f' % r2_score(y,y_hat))"
   ]
  },
  {
   "cell_type": "code",
   "execution_count": 38,
   "metadata": {},
   "outputs": [
    {
     "name": "stdout",
     "output_type": "stream",
     "text": [
      "RMSE:  482224\n",
      "r\"2:  0.496\n"
     ]
    }
   ],
   "source": [
    "print('RMSE: % 1.f' %np.sqrt(mean_squared_error(y,y_hat)))\n",
    "print('r\"2: % 1.3f' % r2_score(y,y_hat))"
   ]
  },
  {
   "cell_type": "code",
   "execution_count": 39,
   "metadata": {},
   "outputs": [
    {
     "name": "stdout",
     "output_type": "stream",
     "text": [
      "Costo promedio: 1092902\n"
     ]
    },
    {
     "data": {
      "image/png": "[encoded data removed]",
      "text/plain": [
       "<Figure size 720x432 with 1 Axes>"
      ]
     },
     "metadata": {
      "needs_background": "light"
     },
     "output_type": "display_data"
    }
   ],
   "source": [
    "print('Costo promedio: %1.f' % y.mean())\n",
    "(df.price).hist(bins=50,figsize=(10,6))\n",
    "plt.title('Distribución de precios')\n",
    "plt.xlabel('Precio en dólares australianos')\n",
    "plt.ylabel('Frecuencia');"
   ]
  },
  {
   "cell_type": "code",
   "execution_count": 40,
   "metadata": {},
   "outputs": [
    {
     "data": {
      "text/plain": [
       "Index(['suburb', 'address', 'rooms', 'type', 'price', 'method', 'sellerg',\n",
       "       'date', 'distance', 'postcode', 'bedroom2', 'bathroom', 'car',\n",
       "       'landsize', 'buildingarea', 'yearbuilt', 'councilarea', 'lattitude',\n",
       "       'longtitude', 'regionname', 'propertycount'],\n",
       "      dtype='object')"
      ]
     },
     "execution_count": 40,
     "metadata": {},
     "output_type": "execute_result"
    }
   ],
   "source": [
    "df.columns"
   ]
  },
  {
   "cell_type": "code",
   "execution_count": 41,
   "metadata": {},
   "outputs": [
    {
     "data": {
      "text/plain": [
       "<AxesSubplot:title={'center':'Valor de los coeficientes'}>"
      ]
     },
     "execution_count": 41,
     "metadata": {},
     "output_type": "execute_result"
    },
    {
     "data": {
      "image/png": "[encoded data removed]",
      "text/plain": [
       "<Figure size 720x360 with 1 Axes>"
      ]
     },
     "metadata": {
      "needs_background": "light"
     },
     "output_type": "display_data"
    }
   ],
   "source": [
    "coefs.sort_values('coeficientes').plot.barh(legend=False,\n",
    "                                            title='Valor de los coeficientes', figsize=(10,5))"
   ]
  },
  {
   "cell_type": "markdown",
   "metadata": {},
   "source": [
    "# Regresion polinomial"
   ]
  },
  {
   "cell_type": "code",
   "execution_count": 42,
   "metadata": {},
   "outputs": [],
   "source": [
    "from sklearn.preprocessing import PolynomialFeatures"
   ]
  },
  {
   "cell_type": "code",
   "execution_count": 43,
   "metadata": {},
   "outputs": [],
   "source": [
    "pf = PolynomialFeatures(2) # revisar ayuda !!!\n",
    "X_poli = pf.fit_transform(X)"
   ]
  },
  {
   "cell_type": "code",
   "execution_count": 44,
   "metadata": {},
   "outputs": [
    {
     "data": {
      "text/plain": [
       "(8887, 36)"
      ]
     },
     "execution_count": 44,
     "metadata": {},
     "output_type": "execute_result"
    }
   ],
   "source": [
    "X_poli.shape"
   ]
  },
  {
   "cell_type": "code",
   "execution_count": 45,
   "metadata": {},
   "outputs": [
    {
     "data": {
      "text/plain": [
       "LinearRegression()"
      ]
     },
     "execution_count": 45,
     "metadata": {},
     "output_type": "execute_result"
    }
   ],
   "source": [
    "ls_poli = linear_model.LinearRegression()\n",
    "ls_poli.fit(X_poli,y)"
   ]
  },
  {
   "cell_type": "code",
   "execution_count": 46,
   "metadata": {},
   "outputs": [
    {
     "name": "stdout",
     "output_type": "stream",
     "text": [
      "('x0', 'distance')\n",
      "('x1', 'car')\n",
      "('x2', 'rooms')\n",
      "('x3', 'landsize')\n",
      "('x4', 'buildingarea')\n",
      "('x5', 'yearbuilt')\n",
      "('x6', 'propertycount')\n"
     ]
    }
   ],
   "source": [
    "# Nombres de las variables\n",
    "for i in zip(['x0','x1','x2','x3','x4','x5','x6'], X.columns):\n",
    "    print(i)"
   ]
  },
  {
   "cell_type": "code",
   "execution_count": 47,
   "metadata": {},
   "outputs": [
    {
     "name": "stdout",
     "output_type": "stream",
     "text": [
      "Intercepto -9451079.25\n"
     ]
    },
    {
     "data": {
      "text/html": [
       "<div>\n",
       "<style scoped>\n",
       "    .dataframe tbody tr th:only-of-type {\n",
       "        vertical-align: middle;\n",
       "    }\n",
       "\n",
       "    .dataframe tbody tr th {\n",
       "        vertical-align: top;\n",
       "    }\n",
       "\n",
       "    .dataframe thead th {\n",
       "        text-align: right;\n",
       "    }\n",
       "</style>\n",
       "<table border=\"1\" class=\"dataframe\">\n",
       "  <thead>\n",
       "    <tr style=\"text-align: right;\">\n",
       "      <th></th>\n",
       "      <th>coeficientes</th>\n",
       "    </tr>\n",
       "  </thead>\n",
       "  <tbody>\n",
       "    <tr>\n",
       "      <th>1</th>\n",
       "      <td>-2.212691e-02</td>\n",
       "    </tr>\n",
       "    <tr>\n",
       "      <th>x0</th>\n",
       "      <td>-1.650558e+05</td>\n",
       "    </tr>\n",
       "    <tr>\n",
       "      <th>x1</th>\n",
       "      <td>8.798762e+05</td>\n",
       "    </tr>\n",
       "    <tr>\n",
       "      <th>x2</th>\n",
       "      <td>2.371337e+06</td>\n",
       "    </tr>\n",
       "    <tr>\n",
       "      <th>x3</th>\n",
       "      <td>9.613887e+02</td>\n",
       "    </tr>\n",
       "    <tr>\n",
       "      <th>x4</th>\n",
       "      <td>-8.965440e+03</td>\n",
       "    </tr>\n",
       "    <tr>\n",
       "      <th>x5</th>\n",
       "      <td>1.228526e+04</td>\n",
       "    </tr>\n",
       "    <tr>\n",
       "      <th>x6</th>\n",
       "      <td>-2.128083e+02</td>\n",
       "    </tr>\n",
       "    <tr>\n",
       "      <th>x0^2</th>\n",
       "      <td>1.106176e+03</td>\n",
       "    </tr>\n",
       "    <tr>\n",
       "      <th>x0 x1</th>\n",
       "      <td>-1.805762e+03</td>\n",
       "    </tr>\n",
       "    <tr>\n",
       "      <th>x0 x2</th>\n",
       "      <td>-5.696766e+03</td>\n",
       "    </tr>\n",
       "    <tr>\n",
       "      <th>x0 x3</th>\n",
       "      <td>-3.297390e+00</td>\n",
       "    </tr>\n",
       "    <tr>\n",
       "      <th>x0 x4</th>\n",
       "      <td>-2.324538e+02</td>\n",
       "    </tr>\n",
       "    <tr>\n",
       "      <th>x0 x5</th>\n",
       "      <td>7.960778e+01</td>\n",
       "    </tr>\n",
       "    <tr>\n",
       "      <th>x0 x6</th>\n",
       "      <td>-2.097359e-01</td>\n",
       "    </tr>\n",
       "    <tr>\n",
       "      <th>x1^2</th>\n",
       "      <td>-1.483269e+04</td>\n",
       "    </tr>\n",
       "    <tr>\n",
       "      <th>x1 x2</th>\n",
       "      <td>-1.513897e+04</td>\n",
       "    </tr>\n",
       "    <tr>\n",
       "      <th>x1 x3</th>\n",
       "      <td>-8.895498e+00</td>\n",
       "    </tr>\n",
       "    <tr>\n",
       "      <th>x1 x4</th>\n",
       "      <td>6.147836e+02</td>\n",
       "    </tr>\n",
       "    <tr>\n",
       "      <th>x1 x5</th>\n",
       "      <td>-4.078161e+02</td>\n",
       "    </tr>\n",
       "    <tr>\n",
       "      <th>x1 x6</th>\n",
       "      <td>1.750570e+00</td>\n",
       "    </tr>\n",
       "    <tr>\n",
       "      <th>x2^2</th>\n",
       "      <td>-2.747993e+04</td>\n",
       "    </tr>\n",
       "    <tr>\n",
       "      <th>x2 x3</th>\n",
       "      <td>1.658812e+01</td>\n",
       "    </tr>\n",
       "    <tr>\n",
       "      <th>x2 x4</th>\n",
       "      <td>4.732061e+02</td>\n",
       "    </tr>\n",
       "    <tr>\n",
       "      <th>x2 x5</th>\n",
       "      <td>-1.033167e+03</td>\n",
       "    </tr>\n",
       "    <tr>\n",
       "      <th>x2 x6</th>\n",
       "      <td>-1.912260e-01</td>\n",
       "    </tr>\n",
       "    <tr>\n",
       "      <th>x3^2</th>\n",
       "      <td>-1.368072e-03</td>\n",
       "    </tr>\n",
       "    <tr>\n",
       "      <th>x3 x4</th>\n",
       "      <td>1.324188e+00</td>\n",
       "    </tr>\n",
       "    <tr>\n",
       "      <th>x3 x5</th>\n",
       "      <td>-5.248754e-01</td>\n",
       "    </tr>\n",
       "    <tr>\n",
       "      <th>x3 x6</th>\n",
       "      <td>1.588479e-04</td>\n",
       "    </tr>\n",
       "    <tr>\n",
       "      <th>x4^2</th>\n",
       "      <td>-2.233873e+00</td>\n",
       "    </tr>\n",
       "    <tr>\n",
       "      <th>x4 x5</th>\n",
       "      <td>6.417107e+00</td>\n",
       "    </tr>\n",
       "    <tr>\n",
       "      <th>x4 x6</th>\n",
       "      <td>-7.963633e-03</td>\n",
       "    </tr>\n",
       "    <tr>\n",
       "      <th>x5^2</th>\n",
       "      <td>-3.857207e+00</td>\n",
       "    </tr>\n",
       "    <tr>\n",
       "      <th>x5 x6</th>\n",
       "      <td>1.290756e-01</td>\n",
       "    </tr>\n",
       "    <tr>\n",
       "      <th>x6^2</th>\n",
       "      <td>-2.139886e-03</td>\n",
       "    </tr>\n",
       "  </tbody>\n",
       "</table>\n",
       "</div>"
      ],
      "text/plain": [
       "       coeficientes\n",
       "1     -2.212691e-02\n",
       "x0    -1.650558e+05\n",
       "x1     8.798762e+05\n",
       "x2     2.371337e+06\n",
       "x3     9.613887e+02\n",
       "x4    -8.965440e+03\n",
       "x5     1.228526e+04\n",
       "x6    -2.128083e+02\n",
       "x0^2   1.106176e+03\n",
       "x0 x1 -1.805762e+03\n",
       "x0 x2 -5.696766e+03\n",
       "x0 x3 -3.297390e+00\n",
       "x0 x4 -2.324538e+02\n",
       "x0 x5  7.960778e+01\n",
       "x0 x6 -2.097359e-01\n",
       "x1^2  -1.483269e+04\n",
       "x1 x2 -1.513897e+04\n",
       "x1 x3 -8.895498e+00\n",
       "x1 x4  6.147836e+02\n",
       "x1 x5 -4.078161e+02\n",
       "x1 x6  1.750570e+00\n",
       "x2^2  -2.747993e+04\n",
       "x2 x3  1.658812e+01\n",
       "x2 x4  4.732061e+02\n",
       "x2 x5 -1.033167e+03\n",
       "x2 x6 -1.912260e-01\n",
       "x3^2  -1.368072e-03\n",
       "x3 x4  1.324188e+00\n",
       "x3 x5 -5.248754e-01\n",
       "x3 x6  1.588479e-04\n",
       "x4^2  -2.233873e+00\n",
       "x4 x5  6.417107e+00\n",
       "x4 x6 -7.963633e-03\n",
       "x5^2  -3.857207e+00\n",
       "x5 x6  1.290756e-01\n",
       "x6^2  -2.139886e-03"
      ]
     },
     "execution_count": 47,
     "metadata": {},
     "output_type": "execute_result"
    }
   ],
   "source": [
    "print('Intercepto % 1.2f' % ls_poli.intercept_)\n",
    "\n",
    "coefs = pd.DataFrame(index = pf.get_feature_names(), \n",
    "                     data = ls_poli.coef_,columns=['coeficientes'])\n",
    "coefs"
   ]
  },
  {
   "cell_type": "code",
   "execution_count": 48,
   "metadata": {},
   "outputs": [
    {
     "data": {
      "text/plain": [
       "<AxesSubplot:>"
      ]
     },
     "execution_count": 48,
     "metadata": {},
     "output_type": "execute_result"
    },
    {
     "data": {
      "image/png": "[encoded data removed]",
      "text/plain": [
       "<Figure size 432x288 with 1 Axes>"
      ]
     },
     "metadata": {
      "needs_background": "light"
     },
     "output_type": "display_data"
    }
   ],
   "source": [
    "coefs.plot.bar()"
   ]
  },
  {
   "cell_type": "code",
   "execution_count": 49,
   "metadata": {},
   "outputs": [],
   "source": [
    "y_hat = ls_poli.predict(X_poli)"
   ]
  },
  {
   "cell_type": "code",
   "execution_count": 50,
   "metadata": {},
   "outputs": [
    {
     "name": "stdout",
     "output_type": "stream",
     "text": [
      "RMSE:  429036\n",
      "r\"2:  0.601\n"
     ]
    }
   ],
   "source": [
    "print('RMSE: % 1.f' % np.sqrt(mean_squared_error(y,y_hat)))\n",
    "print('r\"2: % 1.3f' % r2_score(y,y_hat))"
   ]
  },
  {
   "cell_type": "code",
   "execution_count": 51,
   "metadata": {},
   "outputs": [
    {
     "data": {
      "image/png": "[encoded data removed]",
      "text/plain": [
       "<Figure size 576x288 with 1 Axes>"
      ]
     },
     "metadata": {
      "needs_background": "light"
     },
     "output_type": "display_data"
    }
   ],
   "source": [
    "coefs.sort_values('coeficientes',inplace=True)\n",
    "imp_coef = pd.concat([coefs.head(5), coefs.tail(5)])\n",
    "imp_coef.plot(kind = \"barh\", color='r',alpha=0.8,figsize = (8,4))\n",
    "plt.title(\"Coeficientes del modelo\");"
   ]
  }
 ],
 "metadata": {
  "kernelspec": {
   "display_name": "Python 3",
   "language": "python",
   "name": "python3"
  },
  "language_info": {
   "codemirror_mode": {
    "name": "ipython",
    "version": 3
   },
   "file_extension": ".py",
   "mimetype": "text/x-python",
   "name": "python",
   "nbconvert_exporter": "python",
   "pygments_lexer": "ipython3",
   "version": "3.8.8"
  }
 },
 "nbformat": 4,
 "nbformat_minor": 4
}
